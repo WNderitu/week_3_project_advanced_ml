{
  "cells": [
    {
      "cell_type": "markdown",
      "metadata": {
        "id": "Szy8fX6MMdAJ"
      },
      "source": [
        "# Air Quality Forecasting using Time Series Machine Learning Models\n",
        "\n",
        "## Notebook 1: Data Cleaning"
      ]
    },
    {
      "cell_type": "markdown",
      "metadata": {
        "id": "nU3xn54lMdAK"
      },
      "source": [
        "## 1.0. Introduction\n",
        "### 1.1. Project Goal\n",
        "The goal of this project is to develop a machine learning model that predicts future air quality levels based on historical air quality data and relevant environmental factors.\n",
        "### 1.2. Context/ Problem Statement\n",
        "A few years ago, China established the Air Quality Index (AQI) based on the level of five pollutants atmospheres, namely sulfur dioxide (SO2), nitrogen dioxide (NO2), particulate matter (PM10), carbon monoxide (CO) and ozone (O3) measured at the monitoring stations in each city."
      ]
    },
    {
      "cell_type": "markdown",
      "metadata": {
        "id": "3X9smIaCMdAL"
      },
      "source": [
        "## 2.0. Installing & Importing Libraries"
      ]
    },
    {
      "cell_type": "code",
      "execution_count": 1,
      "metadata": {
        "colab": {
          "base_uri": "https://localhost:8080/"
        },
        "id": "w1F27tNaMdAL",
        "outputId": "24f45ffe-f38e-47ae-ad8f-d538e14f29d8"
      },
      "outputs": [],
      "source": [
        "# Installing liac-arff library\n",
        "# The library is for loading the dataset which is in the ARFF format:\n",
        "# !pip install liac-arff"
      ]
    },
    {
      "cell_type": "code",
      "execution_count": 1,
      "metadata": {
        "id": "gUShVbnsMdAM"
      },
      "outputs": [],
      "source": [
        "# Import the ARFF library\n",
        "import arff  # If using the 'liac-arff' package (install via `pip install liac-arff`)\n",
        "\n",
        "# Libraries required for data analysis, visualization, and preprocessing\n",
        "import numpy as np\n",
        "import pandas as pd\n",
        "from matplotlib import pyplot as plt\n",
        "import seaborn as sns\n",
        "import matplotlib.dates as mdates\n",
        "\n",
        "%matplotlib inline\n",
        "\n",
        "import math  # For mathematical operations"
      ]
    },
    {
      "cell_type": "markdown",
      "metadata": {
        "id": "0mkL86vMMdAM"
      },
      "source": [
        "## 3.0. Importing Data"
      ]
    },
    {
      "cell_type": "code",
      "execution_count": 2,
      "metadata": {
        "colab": {
          "base_uri": "https://localhost:8080/"
        },
        "id": "fd0zoBf_MdAN",
        "outputId": "2c8c2cbb-8ee8-43c2-de25-9e53bbf170e9"
      },
      "outputs": [
        {
          "name": "stdout",
          "output_type": "stream",
          "text": [
            "   No  year  month  day  hour  PM2.5  PM10   SO2   NO2     CO    O3  TEMP  \\\n",
            "0   1  2013      3    1     0    4.0   4.0   4.0   7.0  300.0  77.0  -0.7   \n",
            "1   2  2013      3    1     1    8.0   8.0   4.0   7.0  300.0  77.0  -1.1   \n",
            "2   3  2013      3    1     2    7.0   7.0   5.0  10.0  300.0  73.0  -1.1   \n",
            "3   4  2013      3    1     3    6.0   6.0  11.0  11.0  300.0  72.0  -1.4   \n",
            "4   5  2013      3    1     4    3.0   3.0  12.0  12.0  300.0  72.0  -2.0   \n",
            "\n",
            "     PRES  DEWP  RAIN   wd  WSPM       station  \n",
            "0  1023.0 -18.8   0.0  NNW   4.4  Aotizhongxin  \n",
            "1  1023.2 -18.2   0.0    N   4.7  Aotizhongxin  \n",
            "2  1023.5 -18.2   0.0  NNW   5.6  Aotizhongxin  \n",
            "3  1024.5 -19.4   0.0   NW   3.1  Aotizhongxin  \n",
            "4  1025.2 -19.5   0.0    N   2.0  Aotizhongxin  \n"
          ]
        }
      ],
      "source": [
        "# data obtained from https://www.openml.org/search?type=data&status=active&id=42933&sort=runs\n",
        "# Load ARFF file\n",
        "with open('dataset.arff', 'r') as file:\n",
        "    data = arff.load(file)\n",
        "\n",
        "# Extract data and attribute names\n",
        "attributes = [attr[0] for attr in data['attributes']]\n",
        "air_poll = pd.DataFrame(data['data'], columns=attributes)\n",
        "\n",
        "# Display the DataFrame\n",
        "print(air_poll.head())"
      ]
    },
    {
      "cell_type": "code",
      "execution_count": 3,
      "metadata": {
        "colab": {
          "base_uri": "https://localhost:8080/",
          "height": 226
        },
        "id": "TyAV8eSdMdAN",
        "outputId": "6634d5cb-f0ea-4237-fec5-e32ece36029c"
      },
      "outputs": [
        {
          "data": {
            "text/html": [
              "<div>\n",
              "<style scoped>\n",
              "    .dataframe tbody tr th:only-of-type {\n",
              "        vertical-align: middle;\n",
              "    }\n",
              "\n",
              "    .dataframe tbody tr th {\n",
              "        vertical-align: top;\n",
              "    }\n",
              "\n",
              "    .dataframe thead th {\n",
              "        text-align: right;\n",
              "    }\n",
              "</style>\n",
              "<table border=\"1\" class=\"dataframe\">\n",
              "  <thead>\n",
              "    <tr style=\"text-align: right;\">\n",
              "      <th></th>\n",
              "      <th>No</th>\n",
              "      <th>year</th>\n",
              "      <th>month</th>\n",
              "      <th>day</th>\n",
              "      <th>hour</th>\n",
              "      <th>PM2.5</th>\n",
              "      <th>PM10</th>\n",
              "      <th>SO2</th>\n",
              "      <th>NO2</th>\n",
              "      <th>CO</th>\n",
              "      <th>O3</th>\n",
              "      <th>TEMP</th>\n",
              "      <th>PRES</th>\n",
              "      <th>DEWP</th>\n",
              "      <th>RAIN</th>\n",
              "      <th>wd</th>\n",
              "      <th>WSPM</th>\n",
              "      <th>station</th>\n",
              "    </tr>\n",
              "  </thead>\n",
              "  <tbody>\n",
              "    <tr>\n",
              "      <th>420763</th>\n",
              "      <td>35060</td>\n",
              "      <td>2017</td>\n",
              "      <td>2</td>\n",
              "      <td>28</td>\n",
              "      <td>19</td>\n",
              "      <td>11.0</td>\n",
              "      <td>32.0</td>\n",
              "      <td>3.0</td>\n",
              "      <td>24.0</td>\n",
              "      <td>400.0</td>\n",
              "      <td>72.0</td>\n",
              "      <td>12.5</td>\n",
              "      <td>1013.5</td>\n",
              "      <td>-16.2</td>\n",
              "      <td>0.0</td>\n",
              "      <td>NW</td>\n",
              "      <td>2.4</td>\n",
              "      <td>Wanshouxigong</td>\n",
              "    </tr>\n",
              "    <tr>\n",
              "      <th>420764</th>\n",
              "      <td>35061</td>\n",
              "      <td>2017</td>\n",
              "      <td>2</td>\n",
              "      <td>28</td>\n",
              "      <td>20</td>\n",
              "      <td>13.0</td>\n",
              "      <td>32.0</td>\n",
              "      <td>3.0</td>\n",
              "      <td>41.0</td>\n",
              "      <td>500.0</td>\n",
              "      <td>50.0</td>\n",
              "      <td>11.6</td>\n",
              "      <td>1013.6</td>\n",
              "      <td>-15.1</td>\n",
              "      <td>0.0</td>\n",
              "      <td>WNW</td>\n",
              "      <td>0.9</td>\n",
              "      <td>Wanshouxigong</td>\n",
              "    </tr>\n",
              "    <tr>\n",
              "      <th>420765</th>\n",
              "      <td>35062</td>\n",
              "      <td>2017</td>\n",
              "      <td>2</td>\n",
              "      <td>28</td>\n",
              "      <td>21</td>\n",
              "      <td>14.0</td>\n",
              "      <td>28.0</td>\n",
              "      <td>4.0</td>\n",
              "      <td>38.0</td>\n",
              "      <td>500.0</td>\n",
              "      <td>54.0</td>\n",
              "      <td>10.8</td>\n",
              "      <td>1014.2</td>\n",
              "      <td>-13.3</td>\n",
              "      <td>0.0</td>\n",
              "      <td>NW</td>\n",
              "      <td>1.1</td>\n",
              "      <td>Wanshouxigong</td>\n",
              "    </tr>\n",
              "    <tr>\n",
              "      <th>420766</th>\n",
              "      <td>35063</td>\n",
              "      <td>2017</td>\n",
              "      <td>2</td>\n",
              "      <td>28</td>\n",
              "      <td>22</td>\n",
              "      <td>12.0</td>\n",
              "      <td>23.0</td>\n",
              "      <td>4.0</td>\n",
              "      <td>30.0</td>\n",
              "      <td>400.0</td>\n",
              "      <td>59.0</td>\n",
              "      <td>10.5</td>\n",
              "      <td>1014.4</td>\n",
              "      <td>-12.9</td>\n",
              "      <td>0.0</td>\n",
              "      <td>NNW</td>\n",
              "      <td>1.2</td>\n",
              "      <td>Wanshouxigong</td>\n",
              "    </tr>\n",
              "    <tr>\n",
              "      <th>420767</th>\n",
              "      <td>35064</td>\n",
              "      <td>2017</td>\n",
              "      <td>2</td>\n",
              "      <td>28</td>\n",
              "      <td>23</td>\n",
              "      <td>13.0</td>\n",
              "      <td>19.0</td>\n",
              "      <td>4.0</td>\n",
              "      <td>38.0</td>\n",
              "      <td>600.0</td>\n",
              "      <td>49.0</td>\n",
              "      <td>8.6</td>\n",
              "      <td>1014.1</td>\n",
              "      <td>-15.9</td>\n",
              "      <td>0.0</td>\n",
              "      <td>NNE</td>\n",
              "      <td>1.3</td>\n",
              "      <td>Wanshouxigong</td>\n",
              "    </tr>\n",
              "  </tbody>\n",
              "</table>\n",
              "</div>"
            ],
            "text/plain": [
              "           No  year  month  day  hour  PM2.5  PM10  SO2   NO2     CO    O3  \\\n",
              "420763  35060  2017      2   28    19   11.0  32.0  3.0  24.0  400.0  72.0   \n",
              "420764  35061  2017      2   28    20   13.0  32.0  3.0  41.0  500.0  50.0   \n",
              "420765  35062  2017      2   28    21   14.0  28.0  4.0  38.0  500.0  54.0   \n",
              "420766  35063  2017      2   28    22   12.0  23.0  4.0  30.0  400.0  59.0   \n",
              "420767  35064  2017      2   28    23   13.0  19.0  4.0  38.0  600.0  49.0   \n",
              "\n",
              "        TEMP    PRES  DEWP  RAIN   wd  WSPM        station  \n",
              "420763  12.5  1013.5 -16.2   0.0   NW   2.4  Wanshouxigong  \n",
              "420764  11.6  1013.6 -15.1   0.0  WNW   0.9  Wanshouxigong  \n",
              "420765  10.8  1014.2 -13.3   0.0   NW   1.1  Wanshouxigong  \n",
              "420766  10.5  1014.4 -12.9   0.0  NNW   1.2  Wanshouxigong  \n",
              "420767   8.6  1014.1 -15.9   0.0  NNE   1.3  Wanshouxigong  "
            ]
          },
          "execution_count": 3,
          "metadata": {},
          "output_type": "execute_result"
        }
      ],
      "source": [
        "air_poll.tail()"
      ]
    },
    {
      "cell_type": "code",
      "execution_count": 4,
      "metadata": {
        "colab": {
          "base_uri": "https://localhost:8080/",
          "height": 206
        },
        "id": "O8U8Rl-zMdAN",
        "outputId": "a643cfc1-6b54-4e73-8d87-f02ab01eb804"
      },
      "outputs": [
        {
          "data": {
            "text/html": [
              "<div>\n",
              "<style scoped>\n",
              "    .dataframe tbody tr th:only-of-type {\n",
              "        vertical-align: middle;\n",
              "    }\n",
              "\n",
              "    .dataframe tbody tr th {\n",
              "        vertical-align: top;\n",
              "    }\n",
              "\n",
              "    .dataframe thead th {\n",
              "        text-align: right;\n",
              "    }\n",
              "</style>\n",
              "<table border=\"1\" class=\"dataframe\">\n",
              "  <thead>\n",
              "    <tr style=\"text-align: right;\">\n",
              "      <th></th>\n",
              "      <th>No</th>\n",
              "      <th>year</th>\n",
              "      <th>month</th>\n",
              "      <th>day</th>\n",
              "      <th>hour</th>\n",
              "      <th>PM2.5</th>\n",
              "      <th>PM10</th>\n",
              "      <th>SO2</th>\n",
              "      <th>NO2</th>\n",
              "      <th>CO</th>\n",
              "      <th>O3</th>\n",
              "      <th>TEMP</th>\n",
              "      <th>PRES</th>\n",
              "      <th>DEWP</th>\n",
              "      <th>RAIN</th>\n",
              "      <th>wd</th>\n",
              "      <th>WSPM</th>\n",
              "      <th>station</th>\n",
              "    </tr>\n",
              "  </thead>\n",
              "  <tbody>\n",
              "    <tr>\n",
              "      <th>0</th>\n",
              "      <td>1</td>\n",
              "      <td>2013</td>\n",
              "      <td>3</td>\n",
              "      <td>1</td>\n",
              "      <td>0</td>\n",
              "      <td>4.0</td>\n",
              "      <td>4.0</td>\n",
              "      <td>4.0</td>\n",
              "      <td>7.0</td>\n",
              "      <td>300.0</td>\n",
              "      <td>77.0</td>\n",
              "      <td>-0.7</td>\n",
              "      <td>1023.0</td>\n",
              "      <td>-18.8</td>\n",
              "      <td>0.0</td>\n",
              "      <td>NNW</td>\n",
              "      <td>4.4</td>\n",
              "      <td>Aotizhongxin</td>\n",
              "    </tr>\n",
              "    <tr>\n",
              "      <th>1</th>\n",
              "      <td>2</td>\n",
              "      <td>2013</td>\n",
              "      <td>3</td>\n",
              "      <td>1</td>\n",
              "      <td>1</td>\n",
              "      <td>8.0</td>\n",
              "      <td>8.0</td>\n",
              "      <td>4.0</td>\n",
              "      <td>7.0</td>\n",
              "      <td>300.0</td>\n",
              "      <td>77.0</td>\n",
              "      <td>-1.1</td>\n",
              "      <td>1023.2</td>\n",
              "      <td>-18.2</td>\n",
              "      <td>0.0</td>\n",
              "      <td>N</td>\n",
              "      <td>4.7</td>\n",
              "      <td>Aotizhongxin</td>\n",
              "    </tr>\n",
              "    <tr>\n",
              "      <th>2</th>\n",
              "      <td>3</td>\n",
              "      <td>2013</td>\n",
              "      <td>3</td>\n",
              "      <td>1</td>\n",
              "      <td>2</td>\n",
              "      <td>7.0</td>\n",
              "      <td>7.0</td>\n",
              "      <td>5.0</td>\n",
              "      <td>10.0</td>\n",
              "      <td>300.0</td>\n",
              "      <td>73.0</td>\n",
              "      <td>-1.1</td>\n",
              "      <td>1023.5</td>\n",
              "      <td>-18.2</td>\n",
              "      <td>0.0</td>\n",
              "      <td>NNW</td>\n",
              "      <td>5.6</td>\n",
              "      <td>Aotizhongxin</td>\n",
              "    </tr>\n",
              "    <tr>\n",
              "      <th>3</th>\n",
              "      <td>4</td>\n",
              "      <td>2013</td>\n",
              "      <td>3</td>\n",
              "      <td>1</td>\n",
              "      <td>3</td>\n",
              "      <td>6.0</td>\n",
              "      <td>6.0</td>\n",
              "      <td>11.0</td>\n",
              "      <td>11.0</td>\n",
              "      <td>300.0</td>\n",
              "      <td>72.0</td>\n",
              "      <td>-1.4</td>\n",
              "      <td>1024.5</td>\n",
              "      <td>-19.4</td>\n",
              "      <td>0.0</td>\n",
              "      <td>NW</td>\n",
              "      <td>3.1</td>\n",
              "      <td>Aotizhongxin</td>\n",
              "    </tr>\n",
              "    <tr>\n",
              "      <th>4</th>\n",
              "      <td>5</td>\n",
              "      <td>2013</td>\n",
              "      <td>3</td>\n",
              "      <td>1</td>\n",
              "      <td>4</td>\n",
              "      <td>3.0</td>\n",
              "      <td>3.0</td>\n",
              "      <td>12.0</td>\n",
              "      <td>12.0</td>\n",
              "      <td>300.0</td>\n",
              "      <td>72.0</td>\n",
              "      <td>-2.0</td>\n",
              "      <td>1025.2</td>\n",
              "      <td>-19.5</td>\n",
              "      <td>0.0</td>\n",
              "      <td>N</td>\n",
              "      <td>2.0</td>\n",
              "      <td>Aotizhongxin</td>\n",
              "    </tr>\n",
              "  </tbody>\n",
              "</table>\n",
              "</div>"
            ],
            "text/plain": [
              "   No  year  month  day  hour  PM2.5  PM10   SO2   NO2     CO    O3  TEMP  \\\n",
              "0   1  2013      3    1     0    4.0   4.0   4.0   7.0  300.0  77.0  -0.7   \n",
              "1   2  2013      3    1     1    8.0   8.0   4.0   7.0  300.0  77.0  -1.1   \n",
              "2   3  2013      3    1     2    7.0   7.0   5.0  10.0  300.0  73.0  -1.1   \n",
              "3   4  2013      3    1     3    6.0   6.0  11.0  11.0  300.0  72.0  -1.4   \n",
              "4   5  2013      3    1     4    3.0   3.0  12.0  12.0  300.0  72.0  -2.0   \n",
              "\n",
              "     PRES  DEWP  RAIN   wd  WSPM       station  \n",
              "0  1023.0 -18.8   0.0  NNW   4.4  Aotizhongxin  \n",
              "1  1023.2 -18.2   0.0    N   4.7  Aotizhongxin  \n",
              "2  1023.5 -18.2   0.0  NNW   5.6  Aotizhongxin  \n",
              "3  1024.5 -19.4   0.0   NW   3.1  Aotizhongxin  \n",
              "4  1025.2 -19.5   0.0    N   2.0  Aotizhongxin  "
            ]
          },
          "execution_count": 4,
          "metadata": {},
          "output_type": "execute_result"
        }
      ],
      "source": [
        "air_poll.head()"
      ]
    },
    {
      "cell_type": "code",
      "execution_count": 5,
      "metadata": {
        "colab": {
          "base_uri": "https://localhost:8080/"
        },
        "id": "o8UIdUhCMdAO",
        "outputId": "2946f3eb-cee5-437c-c8d4-0c4976e7f5f0"
      },
      "outputs": [
        {
          "name": "stdout",
          "output_type": "stream",
          "text": [
            "<class 'pandas.core.frame.DataFrame'>\n",
            "RangeIndex: 420768 entries, 0 to 420767\n",
            "Data columns (total 18 columns):\n",
            " #   Column   Non-Null Count   Dtype  \n",
            "---  ------   --------------   -----  \n",
            " 0   No       420768 non-null  int64  \n",
            " 1   year     420768 non-null  int64  \n",
            " 2   month    420768 non-null  int64  \n",
            " 3   day      420768 non-null  int64  \n",
            " 4   hour     420768 non-null  int64  \n",
            " 5   PM2.5    412029 non-null  float64\n",
            " 6   PM10     414319 non-null  float64\n",
            " 7   SO2      411747 non-null  float64\n",
            " 8   NO2      408652 non-null  float64\n",
            " 9   CO       400067 non-null  float64\n",
            " 10  O3       407491 non-null  float64\n",
            " 11  TEMP     420370 non-null  float64\n",
            " 12  PRES     420375 non-null  float64\n",
            " 13  DEWP     420365 non-null  float64\n",
            " 14  RAIN     420378 non-null  float64\n",
            " 15  wd       418946 non-null  object \n",
            " 16  WSPM     420450 non-null  float64\n",
            " 17  station  420768 non-null  object \n",
            "dtypes: float64(11), int64(5), object(2)\n",
            "memory usage: 57.8+ MB\n"
          ]
        }
      ],
      "source": [
        "air_poll.info() #get dataset information"
      ]
    },
    {
      "cell_type": "code",
      "execution_count": 6,
      "metadata": {},
      "outputs": [
        {
          "name": "stdout",
          "output_type": "stream",
          "text": [
            "number of unique categories for station column:\n",
            " 12\n"
          ]
        }
      ],
      "source": [
        "station_nunique = air_poll['station'].nunique()\n",
        "print(f\"number of unique categories for station column:\\n {station_nunique}\")"
      ]
    },
    {
      "cell_type": "code",
      "execution_count": 8,
      "metadata": {},
      "outputs": [
        {
          "name": "stdout",
          "output_type": "stream",
          "text": [
            "Unique categories for station column:\n",
            " ['Aotizhongxin' 'Changping' 'Dingling' 'Dongsi' 'Guanyuan' 'Gucheng'\n",
            " 'Huairou' 'Nongzhanguan' 'Shunyi' 'Tiantan' 'Wanliu' 'Wanshouxigong']\n"
          ]
        }
      ],
      "source": [
        "air_poll['station'].unique()\n",
        "# check unique values for wd feature\n",
        "station_unique_values= air_poll['station'].unique()\n",
        "print(f\"Unique categories for station column:\\n {station_unique_values}\")"
      ]
    },
    {
      "cell_type": "markdown",
      "metadata": {
        "id": "pNB-nhXlMdAO"
      },
      "source": [
        "### Description of the data contained in the columns\n",
        "- The dataset consists of 420,768 observations and 18 columns. \n",
        "- There are 6 target variables, namely:\n",
        "  - PM2.5: Fine particulate matter. Defined as particles that are 2.5 microns or less in diameter.\n",
        "  - PM10: Coarse particulate matter. Defined as particles that are 10 microns or less in diameter.\n",
        "  - S02: Sulfur dioxide levels.\n",
        "  - NO2: nitrogen dioxide levels.\n",
        "  - CO: Carbon Monoxide levels.\n",
        "  - 03: Ozone.\n",
        "- There are 8 environmental factors namely:\n",
        "   - TEMP: Temperature in degrees celsius\n",
        "  - PRES: Pressure\n",
        "  - DEWP: Dew Point in degrees celsius\n",
        "  - RAIN: Rain in \n",
        "  - wd: wind direction \n",
        "  - WSPM: wind speed\n",
        "- There are 4 columns containing time features, namely:\n",
        "  - year\n",
        "  - month\n",
        "  - day\n",
        "  - hour \n",
        "- The last column; station contains the names of the monitoring stations in Beijing where the air pollutant measurements were collected\n",
        "- There are 12 monitoring stations where data was collected, namely:\n",
        "  1. Aotizhongxin\n",
        "  2. Changping\n",
        "  3. Dingling\n",
        "  4. Dongsi\n",
        "  5. Guanyuan\n",
        "  6. Gucheng\n",
        "  7. Huairou\n",
        "  8. Nongzhanguan\n",
        "  9. Shunyi\n",
        "  10. Tiantan\n",
        "  11. Wanliu\n",
        "  12. Wanshouxigong"
      ]
    },
    {
      "cell_type": "code",
      "execution_count": 9,
      "metadata": {},
      "outputs": [],
      "source": [
        "# create a copy of the original dataframe to ensure data integrity and prevent unintentional modifications.\n",
        "air_poll_copy = air_poll.copy()"
      ]
    },
    {
      "cell_type": "code",
      "execution_count": 10,
      "metadata": {},
      "outputs": [
        {
          "name": "stdout",
          "output_type": "stream",
          "text": [
            " Column names \n",
            " Index(['No', 'year', 'month', 'day', 'hour', 'PM2.5', 'PM10', 'SO2', 'NO2',\n",
            "       'CO', 'O3', 'TEMP', 'PRES', 'DEWP', 'RAIN', 'wd', 'WSPM', 'station'],\n",
            "      dtype='object') \n"
          ]
        }
      ],
      "source": [
        "column_names = air_poll.columns\n",
        "print(f\" Column names \\n {column_names} \")"
      ]
    },
    {
      "cell_type": "code",
      "execution_count": 11,
      "metadata": {
        "colab": {
          "base_uri": "https://localhost:8080/"
        },
        "id": "R73uUgBEMdAO",
        "outputId": "a150eb6e-e155-4167-f03a-898bb75f39b3"
      },
      "outputs": [
        {
          "name": "stdout",
          "output_type": "stream",
          "text": [
            "Numerical columns: 16\n",
            "Number of numerical columns: 16\n"
          ]
        }
      ],
      "source": [
        "numerical_cols = air_poll.select_dtypes(include=[np.number]).columns.tolist()\n",
        "numerical_cols = len(numerical_cols)\n",
        "print(f\"Numerical columns: {numerical_cols}\")\n",
        "print(f\"Number of numerical columns: {numerical_cols}\")"
      ]
    },
    {
      "cell_type": "code",
      "execution_count": 12,
      "metadata": {
        "colab": {
          "base_uri": "https://localhost:8080/"
        },
        "id": "_eQsVo0lMdAO",
        "outputId": "e05d9bba-0e66-4662-9fd7-a004cbb9d72f"
      },
      "outputs": [
        {
          "name": "stdout",
          "output_type": "stream",
          "text": [
            "Categorical columns: ['wd', 'station']\n",
            "Number of categorical columns: 2\n"
          ]
        }
      ],
      "source": [
        "categorical_cols = air_poll.select_dtypes(include=['object']).columns.tolist()\n",
        "num_categorical_cols = len(categorical_cols)\n",
        "print(f\"Categorical columns: {categorical_cols}\")\n",
        "print(f\"Number of categorical columns: {num_categorical_cols}\")"
      ]
    },
    {
      "cell_type": "code",
      "execution_count": 13,
      "metadata": {},
      "outputs": [
        {
          "name": "stdout",
          "output_type": "stream",
          "text": [
            "Number of unique categories for wd column: 16\n"
          ]
        }
      ],
      "source": [
        "# check number of unique values for wd column that contains categorical data.\n",
        "wd_nunique_values = air_poll['wd'].nunique()\n",
        "print(f\"Number of unique categories for wd column: {wd_nunique_values}\")"
      ]
    },
    {
      "cell_type": "code",
      "execution_count": 15,
      "metadata": {},
      "outputs": [
        {
          "name": "stdout",
          "output_type": "stream",
          "text": [
            "Unique categories for wd column:\n",
            " ['NNW' 'N' 'NW' 'NNE' 'ENE' 'E' 'NE' 'W' 'SSW' 'WSW' 'SE' 'WNW' 'SSE'\n",
            " 'ESE' 'S' 'SW' None]\n"
          ]
        }
      ],
      "source": [
        "# check unique values for wd feature\n",
        "wd_unique_values= air_poll['wd'].unique()\n",
        "print(f\"Unique categories for wd column:\\n {wd_unique_values}\")"
      ]
    },
    {
      "cell_type": "markdown",
      "metadata": {},
      "source": [
        "## 4.0 Creating dictionaries for datasubsets per weather station"
      ]
    },
    {
      "cell_type": "markdown",
      "metadata": {},
      "source": [
        "**The time series data is for 12 monitoring stations. For ease of forecasting, modeling will be done per station.**"
      ]
    },
    {
      "cell_type": "code",
      "execution_count": 16,
      "metadata": {},
      "outputs": [],
      "source": [
        "# Group data by station and get data for the first station; Aotizhongxin\n",
        "dfs_by_station = {station: data for station, data in air_poll.groupby('station')}\n",
        "\n",
        "first_station_name = list(dfs_by_station.keys())[0]  # Get the first station name\n",
        "\n",
        "first_station_df = dfs_by_station[first_station_name].copy() # Copy the first station's DataFrame\n",
        "\n",
        "first_station_df.drop('station', axis=1, inplace=True) # drop the station column as it's not required. "
      ]
    },
    {
      "cell_type": "code",
      "execution_count": 17,
      "metadata": {},
      "outputs": [
        {
          "name": "stdout",
          "output_type": "stream",
          "text": [
            "Data for the first station: Aotizhongxin\n",
            "<class 'pandas.core.frame.DataFrame'>\n",
            "Index: 35064 entries, 0 to 35063\n",
            "Data columns (total 17 columns):\n",
            " #   Column  Non-Null Count  Dtype  \n",
            "---  ------  --------------  -----  \n",
            " 0   No      35064 non-null  int64  \n",
            " 1   year    35064 non-null  int64  \n",
            " 2   month   35064 non-null  int64  \n",
            " 3   day     35064 non-null  int64  \n",
            " 4   hour    35064 non-null  int64  \n",
            " 5   PM2.5   34139 non-null  float64\n",
            " 6   PM10    34346 non-null  float64\n",
            " 7   SO2     34129 non-null  float64\n",
            " 8   NO2     34041 non-null  float64\n",
            " 9   CO      33288 non-null  float64\n",
            " 10  O3      33345 non-null  float64\n",
            " 11  TEMP    35044 non-null  float64\n",
            " 12  PRES    35044 non-null  float64\n",
            " 13  DEWP    35044 non-null  float64\n",
            " 14  RAIN    35044 non-null  float64\n",
            " 15  wd      34983 non-null  object \n",
            " 16  WSPM    35050 non-null  float64\n",
            "dtypes: float64(11), int64(5), object(1)\n",
            "memory usage: 4.8+ MB\n"
          ]
        }
      ],
      "source": [
        "# check information for the dataset for the first station\n",
        "print(f\"Data for the first station: {first_station_name}\")\n",
        "first_station_df.info() "
      ]
    },
    {
      "cell_type": "code",
      "execution_count": 18,
      "metadata": {},
      "outputs": [
        {
          "data": {
            "text/html": [
              "<div>\n",
              "<style scoped>\n",
              "    .dataframe tbody tr th:only-of-type {\n",
              "        vertical-align: middle;\n",
              "    }\n",
              "\n",
              "    .dataframe tbody tr th {\n",
              "        vertical-align: top;\n",
              "    }\n",
              "\n",
              "    .dataframe thead th {\n",
              "        text-align: right;\n",
              "    }\n",
              "</style>\n",
              "<table border=\"1\" class=\"dataframe\">\n",
              "  <thead>\n",
              "    <tr style=\"text-align: right;\">\n",
              "      <th></th>\n",
              "      <th>No</th>\n",
              "      <th>year</th>\n",
              "      <th>month</th>\n",
              "      <th>day</th>\n",
              "      <th>hour</th>\n",
              "      <th>PM2.5</th>\n",
              "      <th>PM10</th>\n",
              "      <th>SO2</th>\n",
              "      <th>NO2</th>\n",
              "      <th>CO</th>\n",
              "      <th>O3</th>\n",
              "      <th>TEMP</th>\n",
              "      <th>PRES</th>\n",
              "      <th>DEWP</th>\n",
              "      <th>RAIN</th>\n",
              "      <th>wd</th>\n",
              "      <th>WSPM</th>\n",
              "    </tr>\n",
              "  </thead>\n",
              "  <tbody>\n",
              "    <tr>\n",
              "      <th>0</th>\n",
              "      <td>1</td>\n",
              "      <td>2013</td>\n",
              "      <td>3</td>\n",
              "      <td>1</td>\n",
              "      <td>0</td>\n",
              "      <td>4.0</td>\n",
              "      <td>4.0</td>\n",
              "      <td>4.0</td>\n",
              "      <td>7.0</td>\n",
              "      <td>300.0</td>\n",
              "      <td>77.0</td>\n",
              "      <td>-0.7</td>\n",
              "      <td>1023.0</td>\n",
              "      <td>-18.8</td>\n",
              "      <td>0.0</td>\n",
              "      <td>NNW</td>\n",
              "      <td>4.4</td>\n",
              "    </tr>\n",
              "    <tr>\n",
              "      <th>1</th>\n",
              "      <td>2</td>\n",
              "      <td>2013</td>\n",
              "      <td>3</td>\n",
              "      <td>1</td>\n",
              "      <td>1</td>\n",
              "      <td>8.0</td>\n",
              "      <td>8.0</td>\n",
              "      <td>4.0</td>\n",
              "      <td>7.0</td>\n",
              "      <td>300.0</td>\n",
              "      <td>77.0</td>\n",
              "      <td>-1.1</td>\n",
              "      <td>1023.2</td>\n",
              "      <td>-18.2</td>\n",
              "      <td>0.0</td>\n",
              "      <td>N</td>\n",
              "      <td>4.7</td>\n",
              "    </tr>\n",
              "    <tr>\n",
              "      <th>2</th>\n",
              "      <td>3</td>\n",
              "      <td>2013</td>\n",
              "      <td>3</td>\n",
              "      <td>1</td>\n",
              "      <td>2</td>\n",
              "      <td>7.0</td>\n",
              "      <td>7.0</td>\n",
              "      <td>5.0</td>\n",
              "      <td>10.0</td>\n",
              "      <td>300.0</td>\n",
              "      <td>73.0</td>\n",
              "      <td>-1.1</td>\n",
              "      <td>1023.5</td>\n",
              "      <td>-18.2</td>\n",
              "      <td>0.0</td>\n",
              "      <td>NNW</td>\n",
              "      <td>5.6</td>\n",
              "    </tr>\n",
              "    <tr>\n",
              "      <th>3</th>\n",
              "      <td>4</td>\n",
              "      <td>2013</td>\n",
              "      <td>3</td>\n",
              "      <td>1</td>\n",
              "      <td>3</td>\n",
              "      <td>6.0</td>\n",
              "      <td>6.0</td>\n",
              "      <td>11.0</td>\n",
              "      <td>11.0</td>\n",
              "      <td>300.0</td>\n",
              "      <td>72.0</td>\n",
              "      <td>-1.4</td>\n",
              "      <td>1024.5</td>\n",
              "      <td>-19.4</td>\n",
              "      <td>0.0</td>\n",
              "      <td>NW</td>\n",
              "      <td>3.1</td>\n",
              "    </tr>\n",
              "    <tr>\n",
              "      <th>4</th>\n",
              "      <td>5</td>\n",
              "      <td>2013</td>\n",
              "      <td>3</td>\n",
              "      <td>1</td>\n",
              "      <td>4</td>\n",
              "      <td>3.0</td>\n",
              "      <td>3.0</td>\n",
              "      <td>12.0</td>\n",
              "      <td>12.0</td>\n",
              "      <td>300.0</td>\n",
              "      <td>72.0</td>\n",
              "      <td>-2.0</td>\n",
              "      <td>1025.2</td>\n",
              "      <td>-19.5</td>\n",
              "      <td>0.0</td>\n",
              "      <td>N</td>\n",
              "      <td>2.0</td>\n",
              "    </tr>\n",
              "  </tbody>\n",
              "</table>\n",
              "</div>"
            ],
            "text/plain": [
              "   No  year  month  day  hour  PM2.5  PM10   SO2   NO2     CO    O3  TEMP  \\\n",
              "0   1  2013      3    1     0    4.0   4.0   4.0   7.0  300.0  77.0  -0.7   \n",
              "1   2  2013      3    1     1    8.0   8.0   4.0   7.0  300.0  77.0  -1.1   \n",
              "2   3  2013      3    1     2    7.0   7.0   5.0  10.0  300.0  73.0  -1.1   \n",
              "3   4  2013      3    1     3    6.0   6.0  11.0  11.0  300.0  72.0  -1.4   \n",
              "4   5  2013      3    1     4    3.0   3.0  12.0  12.0  300.0  72.0  -2.0   \n",
              "\n",
              "     PRES  DEWP  RAIN   wd  WSPM  \n",
              "0  1023.0 -18.8   0.0  NNW   4.4  \n",
              "1  1023.2 -18.2   0.0    N   4.7  \n",
              "2  1023.5 -18.2   0.0  NNW   5.6  \n",
              "3  1024.5 -19.4   0.0   NW   3.1  \n",
              "4  1025.2 -19.5   0.0    N   2.0  "
            ]
          },
          "execution_count": 18,
          "metadata": {},
          "output_type": "execute_result"
        }
      ],
      "source": [
        "first_station_df.head()"
      ]
    },
    {
      "cell_type": "code",
      "execution_count": 19,
      "metadata": {},
      "outputs": [
        {
          "data": {
            "text/html": [
              "<div>\n",
              "<style scoped>\n",
              "    .dataframe tbody tr th:only-of-type {\n",
              "        vertical-align: middle;\n",
              "    }\n",
              "\n",
              "    .dataframe tbody tr th {\n",
              "        vertical-align: top;\n",
              "    }\n",
              "\n",
              "    .dataframe thead th {\n",
              "        text-align: right;\n",
              "    }\n",
              "</style>\n",
              "<table border=\"1\" class=\"dataframe\">\n",
              "  <thead>\n",
              "    <tr style=\"text-align: right;\">\n",
              "      <th></th>\n",
              "      <th>No</th>\n",
              "      <th>year</th>\n",
              "      <th>month</th>\n",
              "      <th>day</th>\n",
              "      <th>hour</th>\n",
              "      <th>PM2.5</th>\n",
              "      <th>PM10</th>\n",
              "      <th>SO2</th>\n",
              "      <th>NO2</th>\n",
              "      <th>CO</th>\n",
              "      <th>O3</th>\n",
              "      <th>TEMP</th>\n",
              "      <th>PRES</th>\n",
              "      <th>DEWP</th>\n",
              "      <th>RAIN</th>\n",
              "      <th>wd</th>\n",
              "      <th>WSPM</th>\n",
              "    </tr>\n",
              "  </thead>\n",
              "  <tbody>\n",
              "    <tr>\n",
              "      <th>35059</th>\n",
              "      <td>35060</td>\n",
              "      <td>2017</td>\n",
              "      <td>2</td>\n",
              "      <td>28</td>\n",
              "      <td>19</td>\n",
              "      <td>12.0</td>\n",
              "      <td>29.0</td>\n",
              "      <td>5.0</td>\n",
              "      <td>35.0</td>\n",
              "      <td>400.0</td>\n",
              "      <td>95.0</td>\n",
              "      <td>12.5</td>\n",
              "      <td>1013.5</td>\n",
              "      <td>-16.2</td>\n",
              "      <td>0.0</td>\n",
              "      <td>NW</td>\n",
              "      <td>2.4</td>\n",
              "    </tr>\n",
              "    <tr>\n",
              "      <th>35060</th>\n",
              "      <td>35061</td>\n",
              "      <td>2017</td>\n",
              "      <td>2</td>\n",
              "      <td>28</td>\n",
              "      <td>20</td>\n",
              "      <td>13.0</td>\n",
              "      <td>37.0</td>\n",
              "      <td>7.0</td>\n",
              "      <td>45.0</td>\n",
              "      <td>500.0</td>\n",
              "      <td>81.0</td>\n",
              "      <td>11.6</td>\n",
              "      <td>1013.6</td>\n",
              "      <td>-15.1</td>\n",
              "      <td>0.0</td>\n",
              "      <td>WNW</td>\n",
              "      <td>0.9</td>\n",
              "    </tr>\n",
              "    <tr>\n",
              "      <th>35061</th>\n",
              "      <td>35062</td>\n",
              "      <td>2017</td>\n",
              "      <td>2</td>\n",
              "      <td>28</td>\n",
              "      <td>21</td>\n",
              "      <td>16.0</td>\n",
              "      <td>37.0</td>\n",
              "      <td>10.0</td>\n",
              "      <td>66.0</td>\n",
              "      <td>700.0</td>\n",
              "      <td>58.0</td>\n",
              "      <td>10.8</td>\n",
              "      <td>1014.2</td>\n",
              "      <td>-13.3</td>\n",
              "      <td>0.0</td>\n",
              "      <td>NW</td>\n",
              "      <td>1.1</td>\n",
              "    </tr>\n",
              "    <tr>\n",
              "      <th>35062</th>\n",
              "      <td>35063</td>\n",
              "      <td>2017</td>\n",
              "      <td>2</td>\n",
              "      <td>28</td>\n",
              "      <td>22</td>\n",
              "      <td>21.0</td>\n",
              "      <td>44.0</td>\n",
              "      <td>12.0</td>\n",
              "      <td>87.0</td>\n",
              "      <td>700.0</td>\n",
              "      <td>35.0</td>\n",
              "      <td>10.5</td>\n",
              "      <td>1014.4</td>\n",
              "      <td>-12.9</td>\n",
              "      <td>0.0</td>\n",
              "      <td>NNW</td>\n",
              "      <td>1.2</td>\n",
              "    </tr>\n",
              "    <tr>\n",
              "      <th>35063</th>\n",
              "      <td>35064</td>\n",
              "      <td>2017</td>\n",
              "      <td>2</td>\n",
              "      <td>28</td>\n",
              "      <td>23</td>\n",
              "      <td>19.0</td>\n",
              "      <td>31.0</td>\n",
              "      <td>10.0</td>\n",
              "      <td>79.0</td>\n",
              "      <td>600.0</td>\n",
              "      <td>42.0</td>\n",
              "      <td>8.6</td>\n",
              "      <td>1014.1</td>\n",
              "      <td>-15.9</td>\n",
              "      <td>0.0</td>\n",
              "      <td>NNE</td>\n",
              "      <td>1.3</td>\n",
              "    </tr>\n",
              "  </tbody>\n",
              "</table>\n",
              "</div>"
            ],
            "text/plain": [
              "          No  year  month  day  hour  PM2.5  PM10   SO2   NO2     CO    O3  \\\n",
              "35059  35060  2017      2   28    19   12.0  29.0   5.0  35.0  400.0  95.0   \n",
              "35060  35061  2017      2   28    20   13.0  37.0   7.0  45.0  500.0  81.0   \n",
              "35061  35062  2017      2   28    21   16.0  37.0  10.0  66.0  700.0  58.0   \n",
              "35062  35063  2017      2   28    22   21.0  44.0  12.0  87.0  700.0  35.0   \n",
              "35063  35064  2017      2   28    23   19.0  31.0  10.0  79.0  600.0  42.0   \n",
              "\n",
              "       TEMP    PRES  DEWP  RAIN   wd  WSPM  \n",
              "35059  12.5  1013.5 -16.2   0.0   NW   2.4  \n",
              "35060  11.6  1013.6 -15.1   0.0  WNW   0.9  \n",
              "35061  10.8  1014.2 -13.3   0.0   NW   1.1  \n",
              "35062  10.5  1014.4 -12.9   0.0  NNW   1.2  \n",
              "35063   8.6  1014.1 -15.9   0.0  NNE   1.3  "
            ]
          },
          "execution_count": 19,
          "metadata": {},
          "output_type": "execute_result"
        }
      ],
      "source": [
        "first_station_df.tail()"
      ]
    },
    {
      "cell_type": "markdown",
      "metadata": {},
      "source": [
        "The data subset for Aotizhongxin station has 35,064 rows and 17 columns."
      ]
    },
    {
      "cell_type": "markdown",
      "metadata": {
        "id": "R01tdgzOMdAO"
      },
      "source": [
        "## 5.0. Data Preprocessing"
      ]
    },
    {
      "cell_type": "markdown",
      "metadata": {},
      "source": [
        "### 5.1. Missingness"
      ]
    },
    {
      "cell_type": "code",
      "execution_count": 20,
      "metadata": {
        "colab": {
          "base_uri": "https://localhost:8080/"
        },
        "id": "89KxZPK-MdAO",
        "outputId": "4ab3c082-578b-4f85-9344-00bc3b43db70"
      },
      "outputs": [
        {
          "name": "stdout",
          "output_type": "stream",
          "text": [
            "Missing percentage of Aotizhongxin data \n",
            "No       0.000000\n",
            "year     0.000000\n",
            "month    0.000000\n",
            "day      0.000000\n",
            "hour     0.000000\n",
            "PM2.5    2.638033\n",
            "PM10     2.047684\n",
            "SO2      2.666553\n",
            "NO2      2.917522\n",
            "CO       5.065024\n",
            "O3       4.902464\n",
            "TEMP     0.057039\n",
            "PRES     0.057039\n",
            "DEWP     0.057039\n",
            "RAIN     0.057039\n",
            "wd       0.231006\n",
            "WSPM     0.039927\n",
            "dtype: float64\n"
          ]
        }
      ],
      "source": [
        "# Check for missing values\n",
        "missing_percentage = first_station_df.isnull().mean() * 100\n",
        "print(f\"Missing percentage of {first_station_name} data \\n{missing_percentage}\")"
      ]
    },
    {
      "cell_type": "markdown",
      "metadata": {},
      "source": [
        "12 features have missing vlues"
      ]
    },
    {
      "cell_type": "code",
      "execution_count": 21,
      "metadata": {
        "colab": {
          "base_uri": "https://localhost:8080/"
        },
        "id": "_vkIVSvHMdAO",
        "outputId": "113b54a2-b815-48f7-addc-2a71e5b40331"
      },
      "outputs": [
        {
          "name": "stdout",
          "output_type": "stream",
          "text": [
            "Missing values per column for Aotizhongxin data \n",
            "No          0\n",
            "year        0\n",
            "month       0\n",
            "day         0\n",
            "hour        0\n",
            "PM2.5     925\n",
            "PM10      718\n",
            "SO2       935\n",
            "NO2      1023\n",
            "CO       1776\n",
            "O3       1719\n",
            "TEMP       20\n",
            "PRES       20\n",
            "DEWP       20\n",
            "RAIN       20\n",
            "wd         81\n",
            "WSPM       14\n",
            "dtype: int64 \n"
          ]
        }
      ],
      "source": [
        "# Check number of missing values per column\n",
        "missing_percentage = first_station_df.isnull().sum()\n",
        "print(f\"Missing values per column for {first_station_name} data \\n{missing_percentage} \")"
      ]
    },
    {
      "cell_type": "code",
      "execution_count": 22,
      "metadata": {
        "colab": {
          "base_uri": "https://localhost:8080/",
          "height": 699
        },
        "id": "57vvlYLTMdAP",
        "outputId": "7cf69855-2652-40a0-986c-9f747f609a58"
      },
      "outputs": [
        {
          "data": {
            "image/png": "[encoded data removed]",
            "text/plain": [
              "<Figure size 1200x800 with 1 Axes>"
            ]
          },
          "metadata": {},
          "output_type": "display_data"
        }
      ],
      "source": [
        "plt.figure(figsize=(12, 8))\n",
        "sns.heatmap(first_station_df.isnull(), cbar=False, cmap='viridis')\n",
        "plt.title(f\"Heatmap of Missing Values for {first_station_name} data\")\n",
        "plt.show()"
      ]
    },
    {
      "cell_type": "markdown",
      "metadata": {},
      "source": [
        "There are missing values for all features except NO, YEAR, MONTH, DAY & HOUR features."
      ]
    },
    {
      "cell_type": "markdown",
      "metadata": {},
      "source": [
        "### 5.2. Handling missingness"
      ]
    },
    {
      "cell_type": "code",
      "execution_count": 23,
      "metadata": {},
      "outputs": [
        {
          "name": "stdout",
          "output_type": "stream",
          "text": [
            "Missing percentage of Aotizhongxin data \n",
            "No       0.0\n",
            "year     0.0\n",
            "month    0.0\n",
            "day      0.0\n",
            "hour     0.0\n",
            "PM2.5    0.0\n",
            "PM10     0.0\n",
            "SO2      0.0\n",
            "NO2      0.0\n",
            "CO       0.0\n",
            "O3       0.0\n",
            "TEMP     0.0\n",
            "PRES     0.0\n",
            "DEWP     0.0\n",
            "RAIN     0.0\n",
            "wd       0.0\n",
            "WSPM     0.0\n",
            "dtype: float64 \n"
          ]
        }
      ],
      "source": [
        "# Handle Missing Values using forward fill (ffill) and backward fill (bfill)\n",
        "first_station_df = first_station_df.ffill().bfill()  # Apply ffill first, then bfill\n",
        "\n",
        "# confirm missing values have been filled. \n",
        "missing_percentage = first_station_df.isnull().mean() * 100\n",
        "print(f\"Missing percentage of {first_station_name} data \\n{missing_percentage} \")"
      ]
    },
    {
      "cell_type": "markdown",
      "metadata": {},
      "source": [
        "### 5.3. Check for duplicate rows"
      ]
    },
    {
      "cell_type": "code",
      "execution_count": 24,
      "metadata": {
        "colab": {
          "base_uri": "https://localhost:8080/"
        },
        "id": "LK371E8xMdAP",
        "outputId": "b1728ad0-530a-4d82-c98f-8f738d72da6d"
      },
      "outputs": [
        {
          "name": "stdout",
          "output_type": "stream",
          "text": [
            "Number of duplicate rows: 0\n",
            "No duplicate rows found for Aotizhongxin data\n"
          ]
        }
      ],
      "source": [
        "# check for duplicate rows\n",
        "duplicate_rows = first_station_df[first_station_df.duplicated()]\n",
        "print(f\"Number of duplicate rows: {duplicate_rows.shape[0]}\")\n",
        "if duplicate_rows.shape[0] > 0:\n",
        "    print(\"Duplicate rows:\")\n",
        "    print(duplicate_rows)\n",
        "else:\n",
        "    print(f\"No duplicate rows found for {first_station_name} data\")"
      ]
    },
    {
      "cell_type": "markdown",
      "metadata": {},
      "source": [
        "### 5.4. Converting columns to date time & indexing of datetime columns"
      ]
    },
    {
      "cell_type": "code",
      "execution_count": 25,
      "metadata": {
        "colab": {
          "base_uri": "https://localhost:8080/"
        },
        "id": "oCkJJ3ogMdAP",
        "outputId": "49cb7da4-9727-4c07-ef14-7a07c9e61751"
      },
      "outputs": [],
      "source": [
        "# Convert year, month, day, hour to datetime\n",
        "first_station_df['datetime'] = pd.to_datetime(first_station_df[['year', 'month', 'day', 'hour']])\n",
        "\n",
        "# Set 'datetime' as index\n",
        "first_station_indexed = first_station_df.set_index('datetime')"
      ]
    },
    {
      "cell_type": "code",
      "execution_count": 26,
      "metadata": {},
      "outputs": [
        {
          "name": "stdout",
          "output_type": "stream",
          "text": [
            "<class 'pandas.core.frame.DataFrame'>\n",
            "DatetimeIndex: 35064 entries, 2013-03-01 00:00:00 to 2017-02-28 23:00:00\n",
            "Data columns (total 17 columns):\n",
            " #   Column  Non-Null Count  Dtype  \n",
            "---  ------  --------------  -----  \n",
            " 0   No      35064 non-null  int64  \n",
            " 1   year    35064 non-null  int64  \n",
            " 2   month   35064 non-null  int64  \n",
            " 3   day     35064 non-null  int64  \n",
            " 4   hour    35064 non-null  int64  \n",
            " 5   PM2.5   35064 non-null  float64\n",
            " 6   PM10    35064 non-null  float64\n",
            " 7   SO2     35064 non-null  float64\n",
            " 8   NO2     35064 non-null  float64\n",
            " 9   CO      35064 non-null  float64\n",
            " 10  O3      35064 non-null  float64\n",
            " 11  TEMP    35064 non-null  float64\n",
            " 12  PRES    35064 non-null  float64\n",
            " 13  DEWP    35064 non-null  float64\n",
            " 14  RAIN    35064 non-null  float64\n",
            " 15  wd      35064 non-null  object \n",
            " 16  WSPM    35064 non-null  float64\n",
            "dtypes: float64(11), int64(5), object(1)\n",
            "memory usage: 4.8+ MB\n"
          ]
        }
      ],
      "source": [
        "first_station_indexed.info()"
      ]
    },
    {
      "cell_type": "markdown",
      "metadata": {},
      "source": [
        "### 5.5 Add a feature for wind direction categories in degrees"
      ]
    },
    {
      "cell_type": "code",
      "execution_count": 27,
      "metadata": {},
      "outputs": [
        {
          "data": {
            "text/html": [
              "<div>\n",
              "<style scoped>\n",
              "    .dataframe tbody tr th:only-of-type {\n",
              "        vertical-align: middle;\n",
              "    }\n",
              "\n",
              "    .dataframe tbody tr th {\n",
              "        vertical-align: top;\n",
              "    }\n",
              "\n",
              "    .dataframe thead th {\n",
              "        text-align: right;\n",
              "    }\n",
              "</style>\n",
              "<table border=\"1\" class=\"dataframe\">\n",
              "  <thead>\n",
              "    <tr style=\"text-align: right;\">\n",
              "      <th></th>\n",
              "      <th>No</th>\n",
              "      <th>year</th>\n",
              "      <th>month</th>\n",
              "      <th>day</th>\n",
              "      <th>hour</th>\n",
              "      <th>PM2.5</th>\n",
              "      <th>PM10</th>\n",
              "      <th>SO2</th>\n",
              "      <th>NO2</th>\n",
              "      <th>CO</th>\n",
              "      <th>O3</th>\n",
              "      <th>TEMP</th>\n",
              "      <th>PRES</th>\n",
              "      <th>DEWP</th>\n",
              "      <th>RAIN</th>\n",
              "      <th>wd</th>\n",
              "      <th>WSPM</th>\n",
              "      <th>wd_direction</th>\n",
              "    </tr>\n",
              "    <tr>\n",
              "      <th>datetime</th>\n",
              "      <th></th>\n",
              "      <th></th>\n",
              "      <th></th>\n",
              "      <th></th>\n",
              "      <th></th>\n",
              "      <th></th>\n",
              "      <th></th>\n",
              "      <th></th>\n",
              "      <th></th>\n",
              "      <th></th>\n",
              "      <th></th>\n",
              "      <th></th>\n",
              "      <th></th>\n",
              "      <th></th>\n",
              "      <th></th>\n",
              "      <th></th>\n",
              "      <th></th>\n",
              "      <th></th>\n",
              "    </tr>\n",
              "  </thead>\n",
              "  <tbody>\n",
              "    <tr>\n",
              "      <th>2013-03-01 00:00:00</th>\n",
              "      <td>1</td>\n",
              "      <td>2013</td>\n",
              "      <td>3</td>\n",
              "      <td>1</td>\n",
              "      <td>0</td>\n",
              "      <td>4.0</td>\n",
              "      <td>4.0</td>\n",
              "      <td>4.0</td>\n",
              "      <td>7.0</td>\n",
              "      <td>300.0</td>\n",
              "      <td>77.0</td>\n",
              "      <td>-0.7</td>\n",
              "      <td>1023.0</td>\n",
              "      <td>-18.8</td>\n",
              "      <td>0.0</td>\n",
              "      <td>NNW</td>\n",
              "      <td>4.4</td>\n",
              "      <td>337.5</td>\n",
              "    </tr>\n",
              "    <tr>\n",
              "      <th>2013-03-01 01:00:00</th>\n",
              "      <td>2</td>\n",
              "      <td>2013</td>\n",
              "      <td>3</td>\n",
              "      <td>1</td>\n",
              "      <td>1</td>\n",
              "      <td>8.0</td>\n",
              "      <td>8.0</td>\n",
              "      <td>4.0</td>\n",
              "      <td>7.0</td>\n",
              "      <td>300.0</td>\n",
              "      <td>77.0</td>\n",
              "      <td>-1.1</td>\n",
              "      <td>1023.2</td>\n",
              "      <td>-18.2</td>\n",
              "      <td>0.0</td>\n",
              "      <td>N</td>\n",
              "      <td>4.7</td>\n",
              "      <td>0.0</td>\n",
              "    </tr>\n",
              "    <tr>\n",
              "      <th>2013-03-01 02:00:00</th>\n",
              "      <td>3</td>\n",
              "      <td>2013</td>\n",
              "      <td>3</td>\n",
              "      <td>1</td>\n",
              "      <td>2</td>\n",
              "      <td>7.0</td>\n",
              "      <td>7.0</td>\n",
              "      <td>5.0</td>\n",
              "      <td>10.0</td>\n",
              "      <td>300.0</td>\n",
              "      <td>73.0</td>\n",
              "      <td>-1.1</td>\n",
              "      <td>1023.5</td>\n",
              "      <td>-18.2</td>\n",
              "      <td>0.0</td>\n",
              "      <td>NNW</td>\n",
              "      <td>5.6</td>\n",
              "      <td>337.5</td>\n",
              "    </tr>\n",
              "    <tr>\n",
              "      <th>2013-03-01 03:00:00</th>\n",
              "      <td>4</td>\n",
              "      <td>2013</td>\n",
              "      <td>3</td>\n",
              "      <td>1</td>\n",
              "      <td>3</td>\n",
              "      <td>6.0</td>\n",
              "      <td>6.0</td>\n",
              "      <td>11.0</td>\n",
              "      <td>11.0</td>\n",
              "      <td>300.0</td>\n",
              "      <td>72.0</td>\n",
              "      <td>-1.4</td>\n",
              "      <td>1024.5</td>\n",
              "      <td>-19.4</td>\n",
              "      <td>0.0</td>\n",
              "      <td>NW</td>\n",
              "      <td>3.1</td>\n",
              "      <td>315.0</td>\n",
              "    </tr>\n",
              "    <tr>\n",
              "      <th>2013-03-01 04:00:00</th>\n",
              "      <td>5</td>\n",
              "      <td>2013</td>\n",
              "      <td>3</td>\n",
              "      <td>1</td>\n",
              "      <td>4</td>\n",
              "      <td>3.0</td>\n",
              "      <td>3.0</td>\n",
              "      <td>12.0</td>\n",
              "      <td>12.0</td>\n",
              "      <td>300.0</td>\n",
              "      <td>72.0</td>\n",
              "      <td>-2.0</td>\n",
              "      <td>1025.2</td>\n",
              "      <td>-19.5</td>\n",
              "      <td>0.0</td>\n",
              "      <td>N</td>\n",
              "      <td>2.0</td>\n",
              "      <td>0.0</td>\n",
              "    </tr>\n",
              "    <tr>\n",
              "      <th>2013-03-01 05:00:00</th>\n",
              "      <td>6</td>\n",
              "      <td>2013</td>\n",
              "      <td>3</td>\n",
              "      <td>1</td>\n",
              "      <td>5</td>\n",
              "      <td>5.0</td>\n",
              "      <td>5.0</td>\n",
              "      <td>18.0</td>\n",
              "      <td>18.0</td>\n",
              "      <td>400.0</td>\n",
              "      <td>66.0</td>\n",
              "      <td>-2.2</td>\n",
              "      <td>1025.6</td>\n",
              "      <td>-19.6</td>\n",
              "      <td>0.0</td>\n",
              "      <td>N</td>\n",
              "      <td>3.7</td>\n",
              "      <td>0.0</td>\n",
              "    </tr>\n",
              "    <tr>\n",
              "      <th>2013-03-01 06:00:00</th>\n",
              "      <td>7</td>\n",
              "      <td>2013</td>\n",
              "      <td>3</td>\n",
              "      <td>1</td>\n",
              "      <td>6</td>\n",
              "      <td>3.0</td>\n",
              "      <td>3.0</td>\n",
              "      <td>18.0</td>\n",
              "      <td>32.0</td>\n",
              "      <td>500.0</td>\n",
              "      <td>50.0</td>\n",
              "      <td>-2.6</td>\n",
              "      <td>1026.5</td>\n",
              "      <td>-19.1</td>\n",
              "      <td>0.0</td>\n",
              "      <td>NNE</td>\n",
              "      <td>2.5</td>\n",
              "      <td>22.5</td>\n",
              "    </tr>\n",
              "    <tr>\n",
              "      <th>2013-03-01 07:00:00</th>\n",
              "      <td>8</td>\n",
              "      <td>2013</td>\n",
              "      <td>3</td>\n",
              "      <td>1</td>\n",
              "      <td>7</td>\n",
              "      <td>3.0</td>\n",
              "      <td>6.0</td>\n",
              "      <td>19.0</td>\n",
              "      <td>41.0</td>\n",
              "      <td>500.0</td>\n",
              "      <td>43.0</td>\n",
              "      <td>-1.6</td>\n",
              "      <td>1027.4</td>\n",
              "      <td>-19.1</td>\n",
              "      <td>0.0</td>\n",
              "      <td>NNW</td>\n",
              "      <td>3.8</td>\n",
              "      <td>337.5</td>\n",
              "    </tr>\n",
              "    <tr>\n",
              "      <th>2013-03-01 08:00:00</th>\n",
              "      <td>9</td>\n",
              "      <td>2013</td>\n",
              "      <td>3</td>\n",
              "      <td>1</td>\n",
              "      <td>8</td>\n",
              "      <td>3.0</td>\n",
              "      <td>6.0</td>\n",
              "      <td>16.0</td>\n",
              "      <td>43.0</td>\n",
              "      <td>500.0</td>\n",
              "      <td>45.0</td>\n",
              "      <td>0.1</td>\n",
              "      <td>1028.3</td>\n",
              "      <td>-19.2</td>\n",
              "      <td>0.0</td>\n",
              "      <td>NNW</td>\n",
              "      <td>4.1</td>\n",
              "      <td>337.5</td>\n",
              "    </tr>\n",
              "    <tr>\n",
              "      <th>2013-03-01 09:00:00</th>\n",
              "      <td>10</td>\n",
              "      <td>2013</td>\n",
              "      <td>3</td>\n",
              "      <td>1</td>\n",
              "      <td>9</td>\n",
              "      <td>3.0</td>\n",
              "      <td>8.0</td>\n",
              "      <td>12.0</td>\n",
              "      <td>28.0</td>\n",
              "      <td>400.0</td>\n",
              "      <td>59.0</td>\n",
              "      <td>1.2</td>\n",
              "      <td>1028.5</td>\n",
              "      <td>-19.3</td>\n",
              "      <td>0.0</td>\n",
              "      <td>N</td>\n",
              "      <td>2.6</td>\n",
              "      <td>0.0</td>\n",
              "    </tr>\n",
              "  </tbody>\n",
              "</table>\n",
              "</div>"
            ],
            "text/plain": [
              "                     No  year  month  day  hour  PM2.5  PM10   SO2   NO2  \\\n",
              "datetime                                                                   \n",
              "2013-03-01 00:00:00   1  2013      3    1     0    4.0   4.0   4.0   7.0   \n",
              "2013-03-01 01:00:00   2  2013      3    1     1    8.0   8.0   4.0   7.0   \n",
              "2013-03-01 02:00:00   3  2013      3    1     2    7.0   7.0   5.0  10.0   \n",
              "2013-03-01 03:00:00   4  2013      3    1     3    6.0   6.0  11.0  11.0   \n",
              "2013-03-01 04:00:00   5  2013      3    1     4    3.0   3.0  12.0  12.0   \n",
              "2013-03-01 05:00:00   6  2013      3    1     5    5.0   5.0  18.0  18.0   \n",
              "2013-03-01 06:00:00   7  2013      3    1     6    3.0   3.0  18.0  32.0   \n",
              "2013-03-01 07:00:00   8  2013      3    1     7    3.0   6.0  19.0  41.0   \n",
              "2013-03-01 08:00:00   9  2013      3    1     8    3.0   6.0  16.0  43.0   \n",
              "2013-03-01 09:00:00  10  2013      3    1     9    3.0   8.0  12.0  28.0   \n",
              "\n",
              "                        CO    O3  TEMP    PRES  DEWP  RAIN   wd  WSPM  \\\n",
              "datetime                                                                \n",
              "2013-03-01 00:00:00  300.0  77.0  -0.7  1023.0 -18.8   0.0  NNW   4.4   \n",
              "2013-03-01 01:00:00  300.0  77.0  -1.1  1023.2 -18.2   0.0    N   4.7   \n",
              "2013-03-01 02:00:00  300.0  73.0  -1.1  1023.5 -18.2   0.0  NNW   5.6   \n",
              "2013-03-01 03:00:00  300.0  72.0  -1.4  1024.5 -19.4   0.0   NW   3.1   \n",
              "2013-03-01 04:00:00  300.0  72.0  -2.0  1025.2 -19.5   0.0    N   2.0   \n",
              "2013-03-01 05:00:00  400.0  66.0  -2.2  1025.6 -19.6   0.0    N   3.7   \n",
              "2013-03-01 06:00:00  500.0  50.0  -2.6  1026.5 -19.1   0.0  NNE   2.5   \n",
              "2013-03-01 07:00:00  500.0  43.0  -1.6  1027.4 -19.1   0.0  NNW   3.8   \n",
              "2013-03-01 08:00:00  500.0  45.0   0.1  1028.3 -19.2   0.0  NNW   4.1   \n",
              "2013-03-01 09:00:00  400.0  59.0   1.2  1028.5 -19.3   0.0    N   2.6   \n",
              "\n",
              "                     wd_direction  \n",
              "datetime                           \n",
              "2013-03-01 00:00:00         337.5  \n",
              "2013-03-01 01:00:00           0.0  \n",
              "2013-03-01 02:00:00         337.5  \n",
              "2013-03-01 03:00:00         315.0  \n",
              "2013-03-01 04:00:00           0.0  \n",
              "2013-03-01 05:00:00           0.0  \n",
              "2013-03-01 06:00:00          22.5  \n",
              "2013-03-01 07:00:00         337.5  \n",
              "2013-03-01 08:00:00         337.5  \n",
              "2013-03-01 09:00:00           0.0  "
            ]
          },
          "execution_count": 27,
          "metadata": {},
          "output_type": "execute_result"
        }
      ],
      "source": [
        "# Define mapping for wind direction to degrees\n",
        "wind_direction_map = {\n",
        "    'N': 0, 'NNE': 22.5, 'NE': 45, 'ENE': 67.5,\n",
        "    'E': 90, 'ESE': 112.5, 'SE': 135, 'SSE': 157.5,\n",
        "    'S': 180, 'SSW': 202.5, 'SW': 225, 'WSW': 247.5,\n",
        "    'W': 270, 'WNW': 292.5, 'NW': 315, 'NNW': 337.5\n",
        "}\n",
        "\n",
        "# Create a 'wd_direction with numerical values\n",
        "first_station_indexed['wd_direction'] = first_station_indexed['wd'].map(wind_direction_map)\n",
        "\n",
        "# confirm conversion\n",
        "first_station_indexed.head(10)"
      ]
    },
    {
      "cell_type": "markdown",
      "metadata": {},
      "source": [
        "### 5.6 Set frequency of data to change it to timeseries data"
      ]
    },
    {
      "cell_type": "code",
      "execution_count": 28,
      "metadata": {},
      "outputs": [
        {
          "name": "stdout",
          "output_type": "stream",
          "text": [
            "<class 'pandas.core.frame.DataFrame'>\n",
            "DatetimeIndex: 35064 entries, 2013-03-01 00:00:00 to 2017-02-28 23:00:00\n",
            "Freq: h\n",
            "Data columns (total 18 columns):\n",
            " #   Column        Non-Null Count  Dtype  \n",
            "---  ------        --------------  -----  \n",
            " 0   No            35064 non-null  int64  \n",
            " 1   year          35064 non-null  int64  \n",
            " 2   month         35064 non-null  int64  \n",
            " 3   day           35064 non-null  int64  \n",
            " 4   hour          35064 non-null  int64  \n",
            " 5   PM2.5         35064 non-null  float64\n",
            " 6   PM10          35064 non-null  float64\n",
            " 7   SO2           35064 non-null  float64\n",
            " 8   NO2           35064 non-null  float64\n",
            " 9   CO            35064 non-null  float64\n",
            " 10  O3            35064 non-null  float64\n",
            " 11  TEMP          35064 non-null  float64\n",
            " 12  PRES          35064 non-null  float64\n",
            " 13  DEWP          35064 non-null  float64\n",
            " 14  RAIN          35064 non-null  float64\n",
            " 15  wd            35064 non-null  object \n",
            " 16  WSPM          35064 non-null  float64\n",
            " 17  wd_direction  35064 non-null  float64\n",
            "dtypes: float64(12), int64(5), object(1)\n",
            "memory usage: 5.1+ MB\n"
          ]
        }
      ],
      "source": [
        "# set the correct frequency\n",
        "first_station_indexed = first_station_indexed.asfreq('h')  # set hourly frequency\n",
        "\n",
        "# confirm setting of frequency\n",
        "first_station_indexed.info()"
      ]
    },
    {
      "cell_type": "markdown",
      "metadata": {},
      "source": [
        "### 5.7 Dropping unnecessary columns from the first stations data subset"
      ]
    },
    {
      "cell_type": "code",
      "execution_count": 29,
      "metadata": {},
      "outputs": [
        {
          "name": "stdout",
          "output_type": "stream",
          "text": [
            "\n",
            "--- Processed Data Info ---\n",
            "<class 'pandas.core.frame.DataFrame'>\n",
            "DatetimeIndex: 35064 entries, 2013-03-01 00:00:00 to 2017-02-28 23:00:00\n",
            "Freq: h\n",
            "Data columns (total 17 columns):\n",
            " #   Column        Non-Null Count  Dtype  \n",
            "---  ------        --------------  -----  \n",
            " 0   year          35064 non-null  int64  \n",
            " 1   month         35064 non-null  int64  \n",
            " 2   day           35064 non-null  int64  \n",
            " 3   hour          35064 non-null  int64  \n",
            " 4   PM2.5         35064 non-null  float64\n",
            " 5   PM10          35064 non-null  float64\n",
            " 6   SO2           35064 non-null  float64\n",
            " 7   NO2           35064 non-null  float64\n",
            " 8   CO            35064 non-null  float64\n",
            " 9   O3            35064 non-null  float64\n",
            " 10  TEMP          35064 non-null  float64\n",
            " 11  PRES          35064 non-null  float64\n",
            " 12  DEWP          35064 non-null  float64\n",
            " 13  RAIN          35064 non-null  float64\n",
            " 14  wd            35064 non-null  object \n",
            " 15  WSPM          35064 non-null  float64\n",
            " 16  wd_direction  35064 non-null  float64\n",
            "dtypes: float64(12), int64(4), object(1)\n",
            "memory usage: 4.8+ MB\n",
            "None\n"
          ]
        }
      ],
      "source": [
        "# Drop unnecessary columns\n",
        "columns_to_drop = [\"No\"]\n",
        "cleaned_first_station_df = first_station_indexed.drop(columns=columns_to_drop, inplace=False)\n",
        "\n",
        "# Print summary of cleaned data\n",
        "print(\"\\n--- Processed Data Info ---\")\n",
        "print(cleaned_first_station_df.info())"
      ]
    },
    {
      "cell_type": "code",
      "execution_count": 30,
      "metadata": {},
      "outputs": [
        {
          "name": "stdout",
          "output_type": "stream",
          "text": [
            "                     year  month  day  hour  PM2.5  PM10   SO2   NO2     CO  \\\n",
            "datetime                                                                      \n",
            "2013-03-01 00:00:00  2013      3    1     0    4.0   4.0   4.0   7.0  300.0   \n",
            "2013-03-01 01:00:00  2013      3    1     1    8.0   8.0   4.0   7.0  300.0   \n",
            "2013-03-01 02:00:00  2013      3    1     2    7.0   7.0   5.0  10.0  300.0   \n",
            "2013-03-01 03:00:00  2013      3    1     3    6.0   6.0  11.0  11.0  300.0   \n",
            "2013-03-01 04:00:00  2013      3    1     4    3.0   3.0  12.0  12.0  300.0   \n",
            "\n",
            "                       O3  TEMP    PRES  DEWP  RAIN   wd  WSPM  wd_direction  \n",
            "datetime                                                                      \n",
            "2013-03-01 00:00:00  77.0  -0.7  1023.0 -18.8   0.0  NNW   4.4         337.5  \n",
            "2013-03-01 01:00:00  77.0  -1.1  1023.2 -18.2   0.0    N   4.7           0.0  \n",
            "2013-03-01 02:00:00  73.0  -1.1  1023.5 -18.2   0.0  NNW   5.6         337.5  \n",
            "2013-03-01 03:00:00  72.0  -1.4  1024.5 -19.4   0.0   NW   3.1         315.0  \n",
            "2013-03-01 04:00:00  72.0  -2.0  1025.2 -19.5   0.0    N   2.0           0.0  \n"
          ]
        }
      ],
      "source": [
        "print(cleaned_first_station_df.head())"
      ]
    },
    {
      "cell_type": "markdown",
      "metadata": {},
      "source": [
        "17 features for EDA"
      ]
    },
    {
      "cell_type": "markdown",
      "metadata": {},
      "source": [
        "## 6.0 Saving cleaned and pre-processed dataframe as csv file"
      ]
    },
    {
      "cell_type": "code",
      "execution_count": 32,
      "metadata": {},
      "outputs": [],
      "source": [
        "# save the  cleaned data frame as a csv file for EDA.\n",
        "cleaned_first_station_df.to_csv('Aotizhongxin_clean_data.csv', index=True)"
      ]
    }
  ],
  "metadata": {
    "colab": {
      "provenance": [],
      "toc_visible": true
    },
    "kernelspec": {
      "display_name": "3.12.5",
      "language": "python",
      "name": "python3"
    },
    "language_info": {
      "codemirror_mode": {
        "name": "ipython",
        "version": 3
      },
      "file_extension": ".py",
      "mimetype": "text/x-python",
      "name": "python",
      "nbconvert_exporter": "python",
      "pygments_lexer": "ipython3",
      "version": "3.12.5"
    }
  },
  "nbformat": 4,
  "nbformat_minor": 0
}
